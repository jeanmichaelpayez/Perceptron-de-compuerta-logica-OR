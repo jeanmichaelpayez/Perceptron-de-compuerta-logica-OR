{
  "nbformat": 4,
  "nbformat_minor": 0,
  "metadata": {
    "colab": {
      "provenance": [],
      "authorship_tag": "ABX9TyOScko78Gl9nWXzLScJlOS5",
      "include_colab_link": true
    },
    "kernelspec": {
      "name": "python3",
      "display_name": "Python 3"
    },
    "language_info": {
      "name": "python"
    }
  },
  "cells": [
    {
      "cell_type": "markdown",
      "metadata": {
        "id": "view-in-github",
        "colab_type": "text"
      },
      "source": [
        "<a href=\"https://colab.research.google.com/github/jeanmichaelpayez/Perceptron-de-compuerta-logica-OR/blob/main/OR.ipynb\" target=\"_parent\"><img src=\"https://colab.research.google.com/assets/colab-badge.svg\" alt=\"Open In Colab\"/></a>"
      ]
    },
    {
      "cell_type": "markdown",
      "source": [
        "RED NEURONAL - COMPUERTA OR"
      ],
      "metadata": {
        "id": "wIiIkNP5pKaE"
      }
    },
    {
      "cell_type": "markdown",
      "source": [
        "* CURSO: INTELIGENCIA ARTIFICIAL\n",
        "* ALUMNO: JEAN MICHAEL PAYE ZUNI"
      ],
      "metadata": {
        "id": "j5OkDocVsU2l"
      }
    },
    {
      "cell_type": "code",
      "source": [
        "# Paso 1: Importar librerías\n",
        "import numpy as np\n",
        "import matplotlib.pyplot as plt\n",
        "from matplotlib.colors import ListedColormap\n",
        "import warnings\n",
        "warnings.filterwarnings('ignore')"
      ],
      "metadata": {
        "id": "otL28IikuByc"
      },
      "execution_count": null,
      "outputs": []
    },
    {
      "cell_type": "code",
      "source": [
        "# Paso 2: Clase Perceptron (exactamente como en las diapositivas)\n",
        "class Perceptron:\n",
        "    def __init__(self, eta=0.01, epochs=60):\n",
        "        self.eta = eta          # Tasa de aprendizaje\n",
        "        self.epochs = epochs    # Número de épocas\n",
        "        self.w = None           # Pesos (se inicializan en fit)\n",
        "        self.errors = []        # Errores por época (para graficar)\n",
        "\n",
        "    def fit(self, X, y):\n",
        "        # Inicializar pesos: [bias, w1, w2, ...]\n",
        "        self.w = np.zeros(1 + X.shape[1])\n",
        "        self.errors = []\n",
        "\n",
        "        for epoch in range(self.epochs):\n",
        "            errors = 0\n",
        "            for xi, target in zip(X, y):\n",
        "                # Predicción\n",
        "                prediction = self.predict(xi)\n",
        "                # Actualización\n",
        "                update = self.eta * (target - prediction)\n",
        "                self.w[1:] += update * xi\n",
        "                self.w[0] += update\n",
        "                errors += int(update != 0.0)  # Contar errores\n",
        "            self.errors.append(errors)\n",
        "        return self\n",
        "\n",
        "    def net_input(self, X):\n",
        "        # z = w·x + b\n",
        "        return np.dot(X, self.w[1:]) + self.w[0]\n",
        "\n",
        "    def predict(self, X):\n",
        "        # f(z) = 1 si z >= 0, else 0\n",
        "        return np.where(self.net_input(X) >= 0, 1, 0)"
      ],
      "metadata": {
        "id": "3-Qr6czkuDk1"
      },
      "execution_count": null,
      "outputs": []
    },
    {
      "cell_type": "code",
      "source": [
        "# Paso 3: Datos de la compuerta OR\n",
        "X = np.array([[0, 0],\n",
        "              [0, 1],\n",
        "              [1, 0],\n",
        "              [1, 1]])\n",
        "\n",
        "y = np.array([0, 1, 1, 1])  # Salida OR"
      ],
      "metadata": {
        "id": "l_iqZVRhuMs1"
      },
      "execution_count": null,
      "outputs": []
    },
    {
      "cell_type": "code",
      "source": [
        "# Paso 4: Entrenar el perceptrón\n",
        "ppn = Perceptron(eta=0.1, epochs=10)\n",
        "ppn.fit(X, y)"
      ],
      "metadata": {
        "colab": {
          "base_uri": "https://localhost:8080/"
        },
        "id": "2ScEqovpuQpZ",
        "outputId": "64b87228-2553-4ac6-957f-638cdc432cd5"
      },
      "execution_count": null,
      "outputs": [
        {
          "output_type": "execute_result",
          "data": {
            "text/plain": [
              "<__main__.Perceptron at 0x7b28a53d5a90>"
            ]
          },
          "metadata": {},
          "execution_count": 8
        }
      ]
    },
    {
      "cell_type": "code",
      "source": [
        "# Paso 5: Mostrar pesos finales\n",
        "print(\"Pesos finales:\")\n",
        "print(f\"w1 = {ppn.w[1]:.3f}, w2 = {ppn.w[2]:.3f}, bias = {ppn.w[0]:.3f}\")"
      ],
      "metadata": {
        "colab": {
          "base_uri": "https://localhost:8080/"
        },
        "id": "KK6sI3ztuUIW",
        "outputId": "8e1203d3-edd2-4baa-b1ec-f6a64269446f"
      },
      "execution_count": null,
      "outputs": [
        {
          "output_type": "stream",
          "name": "stdout",
          "text": [
            "Pesos finales:\n",
            "w1 = 0.100, w2 = 0.100, bias = -0.100\n"
          ]
        }
      ]
    },
    {
      "cell_type": "code",
      "source": [
        "# Paso 6: Predicciones\n",
        "print(\"\\nPredicciones:\")\n",
        "for xi, target in zip(X, y):\n",
        "    pred = ppn.predict(xi)\n",
        "    print(f\"Entrada: {xi} → Predicción: {pred}, Real: {target}\")"
      ],
      "metadata": {
        "colab": {
          "base_uri": "https://localhost:8080/"
        },
        "id": "tQuELuyruYYZ",
        "outputId": "0fae581a-95b8-420f-d189-011808a5a933"
      },
      "execution_count": null,
      "outputs": [
        {
          "output_type": "stream",
          "name": "stdout",
          "text": [
            "\n",
            "Predicciones:\n",
            "Entrada: [0 0] → Predicción: 0, Real: 0\n",
            "Entrada: [0 1] → Predicción: 1, Real: 1\n",
            "Entrada: [1 0] → Predicción: 1, Real: 1\n",
            "Entrada: [1 1] → Predicción: 1, Real: 1\n"
          ]
        }
      ]
    },
    {
      "cell_type": "code",
      "source": [
        "# Paso 7: Graficar evolución del error\n",
        "plt.figure(figsize=(12, 5))\n",
        "\n",
        "plt.subplot(1, 2, 1)\n",
        "plt.plot(range(1, len(ppn.errors) + 1), ppn.errors, marker='o')\n",
        "plt.xlabel('Época')\n",
        "plt.ylabel('Número de errores')\n",
        "plt.title('Evolución del aprendizaje (OR)')\n",
        "plt.grid(True)"
      ],
      "metadata": {
        "colab": {
          "base_uri": "https://localhost:8080/",
          "height": 490
        },
        "id": "IgmL6gBiucR9",
        "outputId": "3f2bd4c9-20ce-4632-f20d-79c05f3075a5"
      },
      "execution_count": null,
      "outputs": [
        {
          "output_type": "display_data",
          "data": {
            "text/plain": [
              "<Figure size 1200x500 with 1 Axes>"
            ],
            "image/png": "[encoded data removed]"
          },
          "metadata": {}
        }
      ]
    },
    {
      "cell_type": "code",
      "source": [
        "# Paso 8: Graficar frontera de decisión\n",
        "def plot_decision_boundary(X, y, classifier, resolution=0.02):\n",
        "    markers = ('s', 'x', 'o', '^', 'v')\n",
        "    colors = ('red', 'blue', 'lightgreen', 'gray', 'cyan')\n",
        "    cmap = ListedColormap(colors[:len(np.unique(y))])\n",
        "\n",
        "    x1_min, x1_max = X[:, 0].min() - 1, X[:, 0].max() + 1\n",
        "    x2_min, x2_max = X[:, 1].min() - 1, X[:, 1].max() + 1\n",
        "    xx1, xx2 = np.meshgrid(np.arange(x1_min, x1_max, resolution),\n",
        "                           np.arange(x2_min, x2_max, resolution))\n",
        "    Z = classifier.predict(np.array([xx1.ravel(), xx2.ravel()]).T)\n",
        "    Z = Z.reshape(xx1.shape)\n",
        "\n",
        "    plt.contourf(xx1, xx2, Z, alpha=0.3, cmap=cmap)\n",
        "    plt.xlim(xx1.min(), xx1.max())\n",
        "    plt.ylim(xx2.min(), xx2.max())\n",
        "\n",
        "    for idx, cl in enumerate(np.unique(y)):\n",
        "        plt.scatter(x=X[y == cl, 0], y=X[y == cl, 1],\n",
        "                    alpha=0.8, c=colors[idx], marker=markers[idx], label=f'Clase {cl}')\n",
        "\n",
        "# Graficar\n",
        "plt.subplot(1, 2, 2)\n",
        "plot_decision_boundary(X, y, ppn)\n",
        "plt.xlabel('$x_1$')\n",
        "plt.ylabel('$x_2$')\n",
        "plt.title('Frontera de decisión (OR)')\n",
        "plt.legend()\n",
        "plt.grid(True)\n",
        "\n",
        "plt.tight_layout()\n",
        "plt.show()"
      ],
      "metadata": {
        "colab": {
          "base_uri": "https://localhost:8080/",
          "height": 487
        },
        "id": "Skk23NOLuc5K",
        "outputId": "878fb3ca-bd0c-4426-9a19-a784ed5a7ebd"
      },
      "execution_count": null,
      "outputs": [
        {
          "output_type": "display_data",
          "data": {
            "text/plain": [
              "<Figure size 640x480 with 1 Axes>"
            ],
            "image/png": "[encoded data removed]"
          },
          "metadata": {}
        }
      ]
    },
    {
      "cell_type": "code",
      "source": [
        "# Paso 9: Probar un punto nuevo\n",
        "nuevo_punto = np.array([[1, 1]])\n",
        "prediccion = ppn.predict(nuevo_punto)\n",
        "print(f\"\\nNuevo punto [1, 1] → Predicción: {prediccion[0]}\")\n"
      ],
      "metadata": {
        "colab": {
          "base_uri": "https://localhost:8080/"
        },
        "id": "USSOYrpLsTDD",
        "outputId": "68913a76-485b-4353-be55-7dda69cd6a87"
      },
      "execution_count": null,
      "outputs": [
        {
          "output_type": "stream",
          "name": "stdout",
          "text": [
            "\n",
            "Nuevo punto [1, 1] → Predicción: 1\n"
          ]
        }
      ]
    },
    {
      "cell_type": "code",
      "execution_count": null,
      "metadata": {
        "colab": {
          "base_uri": "https://localhost:8080/"
        },
        "id": "AzQ9lxLwpHmT",
        "outputId": "86187680-0416-43a0-dd58-0d1334b3e407"
      },
      "outputs": [
        {
          "output_type": "stream",
          "name": "stdout",
          "text": [
            "\n",
            "Nuevo punto [0, 1] → Predicción: 1\n"
          ]
        }
      ],
      "source": [
        "p1=0\n",
        "p2=1\n",
        "nuevo_punto = np.array([[p1, p2]])\n",
        "prediccion = ppn.predict(nuevo_punto)\n",
        "print(f\"\\nNuevo punto [{p1}, {p2}] → Predicción: {prediccion[0]}\")"
      ]
    }
  ]
}